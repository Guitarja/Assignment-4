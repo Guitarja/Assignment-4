{
 "cells": [
  {
   "cell_type": "code",
   "execution_count": null,
   "metadata": {},
   "outputs": [],
   "source": [
    "#save model to a Keras compatible .h5 model file ready for later use.\n",
    "import yolo3_one_file_to_detect_them_all\n",
    "model = yolo3_one_file_to_detect_them_all.make_yolov3_model()\n",
    "weight_reader = yolo3_one_file_to_detect_them_all.WeightReader('yolov3.weights')\n",
    "weight_reader.load_weights(model)\n",
    "model.save('model.h5')"
   ]
  },
  {
   "cell_type": "code",
   "execution_count": null,
   "metadata": {},
   "outputs": [],
   "source": []
  }
 ],
 "metadata": {
  "kernelspec": {
   "display_name": "Python 3",
   "language": "python",
   "name": "python3"
  },
  "language_info": {
   "codemirror_mode": {
    "name": "ipython",
    "version": 3
   },
   "file_extension": ".py",
   "mimetype": "text/x-python",
   "name": "python",
   "nbconvert_exporter": "python",
   "pygments_lexer": "ipython3",
   "version": "3.7.4"
  }
 },
 "nbformat": 4,
 "nbformat_minor": 4
}
